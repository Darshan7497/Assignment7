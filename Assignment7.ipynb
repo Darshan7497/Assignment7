{
 "cells": [
  {
   "cell_type": "markdown",
   "id": "8bbf877a-d6bd-46d3-bf64-3d02bcd50c97",
   "metadata": {},
   "source": [
    "Q1. Create a function which will take a list as an argument and return the product of all the numbers\n",
    "after creating a flat list.\n",
    "Use the below-given list as an argument for your function.\n",
    "list1 = [1,2,3,4, [44,55,66, True], False, (34,56,78,89,34), {1,2,3,3,2,1}, {1:34, \"key2\": [55, 67, 78, 89], 4: (45,\n",
    "22, 61, 34)}, [56, 'data science'], 'Machine Learning']\n",
    "Note: you must extract numeric keys and values of the dictionary also."
   ]
  },
  {
   "cell_type": "code",
   "execution_count": 1,
   "id": "e10e747f-77ac-4aa9-97ed-8500d0269ecd",
   "metadata": {},
   "outputs": [],
   "source": [
    "list1 = [1,2,3,4, [44,55,66, True], False, (34,56,78,89,34), {1,2,3,3,2,1}, {1:34, \"key2\": [55, 67, 78, 89], 4: (45,\n",
    "22, 61, 34)}, [56, 'data science'], 'Machine Learning']"
   ]
  },
  {
   "cell_type": "code",
   "execution_count": 6,
   "id": "b4d466eb-a42e-4e0c-8a80-c38b0e25563b",
   "metadata": {},
   "outputs": [
    {
     "ename": "SyntaxError",
     "evalue": "invalid syntax (3744279015.py, line 1)",
     "output_type": "error",
     "traceback": [
      "\u001b[0;36m  Cell \u001b[0;32mIn[6], line 1\u001b[0;36m\u001b[0m\n\u001b[0;31m    <class 'list'>: [1, 2, 3, 4, [44, 55, 66, True]\u001b[0m\n\u001b[0m    ^\u001b[0m\n\u001b[0;31mSyntaxError\u001b[0m\u001b[0;31m:\u001b[0m invalid syntax\n"
     ]
    }
   ],
   "source": [
    " <class 'list'>: [1, 2, 3, 4, [44, 55, 66, True]\n",
    " <class 'tuple'>: (34, 56, 78, 89, 34),\n",
    " <class 'set'>: {1, 2, 3},\n",
    " <class 'list'>: [56, 'data science']"
   ]
  },
  {
   "cell_type": "code",
   "execution_count": 13,
   "id": "8765a895-4d9c-4252-918e-cf4b6114101e",
   "metadata": {},
   "outputs": [
    {
     "name": "stdout",
     "output_type": "stream",
     "text": [
      "\n"
     ]
    }
   ],
   "source": [
    "def product_of_numbers(list1):\n",
    "    flattened_list = []\n",
    "    for item in list1:\n",
    "        if type(item) == list or type(item) == tuple or type(item) == set:\n",
    "            flattened_list.extend(item)\n",
    "        elif type(item) == dict:\n",
    "            for key, value in item.items():\n",
    "                if isinstance(key, int):\n",
    "                    flattened_list.append(key)\n",
    "                if isinstance(value, int):\n",
    "                    flattened_list.append(value)\n",
    "        elif isinstance(item, int):\n",
    "            flattened_list.append(item)\n",
    "    product = 1\n",
    "    for num in flattened_list:\n",
    "        product *= num\n",
    "    return product\n",
    "list1 = [1,2,3,4, [44,55,66, True], False, (34,56,78,89,34), {1,2,3,3,2,1}, {1:34, \"key2\": [55, 67, 78, 89], 4: (45, 22, 61, 34)}, [56, 'data science'], 'Machine Learning']\n",
    "result = product_of_numbers(list1)\n",
    "print(result)"
   ]
  },
  {
   "cell_type": "markdown",
   "id": "a66ac4c4-34e3-484b-97bc-a10d95cd6567",
   "metadata": {},
   "source": [
    "Q2. Write a python program for encrypting a message sent to you by your friend. The logic of encryption\n",
    "should be such that, for a the output should be z. For b, the output should be y. For c, the output should\n",
    "be x respectively. Also, the whitespace should be replaced with a dollar sign. Keep the punctuation\n",
    "marks unchanged.\n",
    "Input Sentence: I want to become a Data Scientist.\n",
    "Encrypt the above input sentence using the program you just created.\n",
    "Note: Convert the given input sentence into lowercase before encrypting. The final output should be\n",
    "lowercase."
   ]
  },
  {
   "cell_type": "code",
   "execution_count": null,
   "id": "1b2fc7e2-451c-4904-a0ef-f7a26a7ee3c0",
   "metadata": {},
   "outputs": [],
   "source": [
    "def encrypt_message(message):\n",
    "    encrypted = ''\n",
    "    for char in message.lower():\n",
    "        if char == ' ':\n",
    "            encrypted += '$'\n",
    "        elif char.isalpha():\n",
    "            encrypted += chr(219 - ord(char))\n",
    "        else:\n",
    "            encrypted += char\n",
    "    return encrypted\n",
    "\n",
    "# Test the function with the given input sentence\n",
    "input_sentence = 'I want to become a Data Scientist.'\n",
    "encrypted_sentence = encrypt_message(input_sentence)\n",
    "print(encrypted_sentence)"
   ]
  }
 ],
 "metadata": {
  "kernelspec": {
   "display_name": "Python 3 (ipykernel)",
   "language": "python",
   "name": "python3"
  },
  "language_info": {
   "codemirror_mode": {
    "name": "ipython",
    "version": 3
   },
   "file_extension": ".py",
   "mimetype": "text/x-python",
   "name": "python",
   "nbconvert_exporter": "python",
   "pygments_lexer": "ipython3",
   "version": "3.10.8"
  }
 },
 "nbformat": 4,
 "nbformat_minor": 5
}
